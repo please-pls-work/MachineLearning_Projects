{
  "cells": [
    {
      "metadata": {
        "_uuid": "8f2839f25d086af736a60e9eeb907d3b93b6e0e5",
        "_cell_guid": "b1076dfc-b9ad-4769-8c92-a6c4dae69d19",
        "trusted": true,
        "id": "BOVaBP1avbjd"
      },
      "cell_type": "markdown",
      "source": [
        "**Sentiment Analysis of IMDB Movie Reviews**"
      ]
    },
    {
      "metadata": {
        "id": "YceU-nRivbjj"
      },
      "cell_type": "markdown",
      "source": [
        "**Problem Statement:**\n",
        "\n",
        "In this, we have to predict the number of positive and negative reviews based on sentiments by using different classification models."
      ]
    },
    {
      "metadata": {
        "_uuid": "1424638f5259100af9f9a5c1b05bd23cf5b71e51",
        "id": "jH8tEsFcvbjk"
      },
      "cell_type": "markdown",
      "source": [
        "**Import necessary libraries**"
      ]
    },
    {
      "metadata": {
        "_cell_guid": "79c7e3d0-c299-4dcb-8224-4455121ee9b0",
        "_uuid": "d629ff2d2480ee46fbb7e2d37f6b5fab8052498a",
        "trusted": true,
        "id": "3DvHGlxBvbjl",
        "colab": {
          "base_uri": "https://localhost:8080/",
          "height": 218
        },
        "outputId": "02733c2d-2e7e-4a6b-f975-ac3097cf1c2b"
      },
      "cell_type": "code",
      "source": [
        "#Load the libraries\n",
        "import numpy as np\n",
        "import pandas as pd\n",
        "import seaborn as sns\n",
        "import matplotlib.pyplot as plt\n",
        "import nltk\n",
        "from sklearn.feature_extraction.text import CountVectorizer\n",
        "from sklearn.feature_extraction.text import TfidfVectorizer\n",
        "from sklearn.preprocessing import LabelBinarizer\n",
        "from nltk.corpus import stopwords\n",
        "from nltk.stem.porter import PorterStemmer\n",
        "from wordcloud import WordCloud,STOPWORDS\n",
        "from nltk.stem import WordNetLemmatizer\n",
        "from nltk.tokenize import word_tokenize,sent_tokenize\n",
        "from bs4 import BeautifulSoup\n",
        "import spacy\n",
        "import re,string,unicodedata\n",
        "from nltk.tokenize.toktok import ToktokTokenizer\n",
        "from nltk.stem import LancasterStemmer,WordNetLemmatizer\n",
        "from sklearn.linear_model import LogisticRegression,SGDClassifier\n",
        "from sklearn.naive_bayes import MultinomialNB\n",
        "from sklearn.svm import SVC\n",
        "from textblob import TextBlob\n",
        "from textblob import Word\n",
        "from sklearn.metrics import classification_report,confusion_matrix,accuracy_score\n",
        "\n",
        "import os\n",
        "print(os.listdir(\"../input\"))\n",
        "import warnings\n",
        "warnings.filterwarnings('ignore')\n"
      ],
      "execution_count": 1,
      "outputs": [
        {
          "output_type": "error",
          "ename": "FileNotFoundError",
          "evalue": "[Errno 2] No such file or directory: '../input'",
          "traceback": [
            "\u001b[0;31m---------------------------------------------------------------------------\u001b[0m",
            "\u001b[0;31mFileNotFoundError\u001b[0m                         Traceback (most recent call last)",
            "\u001b[0;32m<ipython-input-1-0fec0dadc28c>\u001b[0m in \u001b[0;36m<cell line: 28>\u001b[0;34m()\u001b[0m\n\u001b[1;32m     26\u001b[0m \u001b[0;34m\u001b[0m\u001b[0m\n\u001b[1;32m     27\u001b[0m \u001b[0;32mimport\u001b[0m \u001b[0mos\u001b[0m\u001b[0;34m\u001b[0m\u001b[0;34m\u001b[0m\u001b[0m\n\u001b[0;32m---> 28\u001b[0;31m \u001b[0mprint\u001b[0m\u001b[0;34m(\u001b[0m\u001b[0mos\u001b[0m\u001b[0;34m.\u001b[0m\u001b[0mlistdir\u001b[0m\u001b[0;34m(\u001b[0m\u001b[0;34m\"../input\"\u001b[0m\u001b[0;34m)\u001b[0m\u001b[0;34m)\u001b[0m\u001b[0;34m\u001b[0m\u001b[0;34m\u001b[0m\u001b[0m\n\u001b[0m\u001b[1;32m     29\u001b[0m \u001b[0;32mimport\u001b[0m \u001b[0mwarnings\u001b[0m\u001b[0;34m\u001b[0m\u001b[0;34m\u001b[0m\u001b[0m\n\u001b[1;32m     30\u001b[0m \u001b[0mwarnings\u001b[0m\u001b[0;34m.\u001b[0m\u001b[0mfilterwarnings\u001b[0m\u001b[0;34m(\u001b[0m\u001b[0;34m'ignore'\u001b[0m\u001b[0;34m)\u001b[0m\u001b[0;34m\u001b[0m\u001b[0;34m\u001b[0m\u001b[0m\n",
            "\u001b[0;31mFileNotFoundError\u001b[0m: [Errno 2] No such file or directory: '../input'"
          ]
        }
      ]
    },
    {
      "metadata": {
        "_uuid": "be1b642cce343f7a8f68f8c91f7c50372cdf4381",
        "id": "Eza5SqO0vbjn"
      },
      "cell_type": "markdown",
      "source": [
        "**Import the training dataset**"
      ]
    },
    {
      "metadata": {
        "trusted": true,
        "_uuid": "4c593c17588723c0b0b0f19851cb70a8447ced76",
        "scrolled": true,
        "id": "UcKpnUXCvbjp"
      },
      "cell_type": "code",
      "source": [
        "#importing the training data\n",
        "imdb_data=pd.read_csv('../input/IMDB Dataset.csv')\n",
        "print(imdb_data.shape)\n",
        "imdb_data.head(10)"
      ],
      "execution_count": null,
      "outputs": []
    },
    {
      "metadata": {
        "_uuid": "1ad3773974351ed9bdf389b2847d7475b36c2295",
        "id": "qc68k6tmvbjr"
      },
      "cell_type": "markdown",
      "source": [
        "**Exploratery data analysis**"
      ]
    },
    {
      "metadata": {
        "trusted": true,
        "_uuid": "7f11c83b1320c8982b36889145f7f770563674a8",
        "id": "VMAWaMhvvbjt"
      },
      "cell_type": "code",
      "source": [
        "#Summary of the dataset\n",
        "imdb_data.describe()"
      ],
      "execution_count": null,
      "outputs": []
    },
    {
      "metadata": {
        "_uuid": "453c3fd238f62ab8f649eb01771817e25bc0c77d",
        "id": "mtn8qZM3vbju"
      },
      "cell_type": "markdown",
      "source": [
        "**Sentiment count**"
      ]
    },
    {
      "metadata": {
        "trusted": true,
        "_uuid": "cb6bb97b0f851947dcf341a1de5708a1f2bc64c1",
        "id": "Y2rpdalDvbjv"
      },
      "cell_type": "code",
      "source": [
        "#sentiment count\n",
        "imdb_data['sentiment'].value_counts()"
      ],
      "execution_count": null,
      "outputs": []
    },
    {
      "metadata": {
        "id": "CsVxVE0Lvbjw"
      },
      "cell_type": "markdown",
      "source": [
        "We can see that the dataset is balanced."
      ]
    },
    {
      "metadata": {
        "_uuid": "f61964573faababe1f7897b77d32815a24954d2f",
        "id": "Rze4PvSQvbjy"
      },
      "cell_type": "markdown",
      "source": [
        "**Spliting the training dataset**"
      ]
    },
    {
      "metadata": {
        "trusted": true,
        "_uuid": "d3aaabff555e07feb11c72cc3a6e457615975ffe",
        "id": "qEHQh4Lavbjy"
      },
      "cell_type": "code",
      "source": [
        "#split the dataset\n",
        "#train dataset\n",
        "train_reviews=imdb_data.review[:40000]\n",
        "train_sentiments=imdb_data.sentiment[:40000]\n",
        "#test dataset\n",
        "test_reviews=imdb_data.review[40000:]\n",
        "test_sentiments=imdb_data.sentiment[40000:]\n",
        "print(train_reviews.shape,train_sentiments.shape)\n",
        "print(test_reviews.shape,test_sentiments.shape)"
      ],
      "execution_count": null,
      "outputs": []
    },
    {
      "metadata": {
        "_uuid": "90da29c3b79f46f41d7391a2a116065b616d0fac",
        "id": "hNlza6Kfvbjz"
      },
      "cell_type": "markdown",
      "source": [
        "**Text normalization**"
      ]
    },
    {
      "metadata": {
        "trusted": true,
        "_uuid": "f000c43d91f68f6668539f089c6a54c5ce3bd819",
        "id": "xtXIhM1Nvbjz"
      },
      "cell_type": "code",
      "source": [
        "#Tokenization of text\n",
        "tokenizer=ToktokTokenizer()\n",
        "#Setting English stopwords\n",
        "stopword_list=nltk.corpus.stopwords.words('english')"
      ],
      "execution_count": null,
      "outputs": []
    },
    {
      "metadata": {
        "_uuid": "328b6e5977da3e055ad4b2e11a31e5e12ccf3b16",
        "id": "L4lrrj-ovbj0"
      },
      "cell_type": "markdown",
      "source": [
        "**Removing html strips and noise text**"
      ]
    },
    {
      "metadata": {
        "trusted": true,
        "_uuid": "6f6fcafbdadcdcb0c164e37d71fb9d1623f74d0a",
        "id": "0oCR1cMnvbj1"
      },
      "cell_type": "code",
      "source": [
        "#Removing the html strips\n",
        "def strip_html(text):\n",
        "    soup = BeautifulSoup(text, \"html.parser\")\n",
        "    return soup.get_text()\n",
        "\n",
        "#Removing the square brackets\n",
        "def remove_between_square_brackets(text):\n",
        "    return re.sub('\\[[^]]*\\]', '', text)\n",
        "\n",
        "#Removing the noisy text\n",
        "def denoise_text(text):\n",
        "    text = strip_html(text)\n",
        "    text = remove_between_square_brackets(text)\n",
        "    return text\n",
        "#Apply function on review column\n",
        "imdb_data['review']=imdb_data['review'].apply(denoise_text)"
      ],
      "execution_count": null,
      "outputs": []
    },
    {
      "metadata": {
        "_uuid": "88117b74761d1047924d6d70f76642faa0e706ac",
        "id": "AsxtgWNIvbj1"
      },
      "cell_type": "markdown",
      "source": [
        "**Removing special characters**"
      ]
    },
    {
      "metadata": {
        "trusted": true,
        "_uuid": "219da72b025121fd98081df50ae0fcaace10cc9d",
        "id": "uCXl5VMkvbj2"
      },
      "cell_type": "code",
      "source": [
        "#Define function for removing special characters\n",
        "def remove_special_characters(text, remove_digits=True):\n",
        "    pattern=r'[^a-zA-z0-9\\s]'\n",
        "    text=re.sub(pattern,'',text)\n",
        "    return text\n",
        "#Apply function on review column\n",
        "imdb_data['review']=imdb_data['review'].apply(remove_special_characters)"
      ],
      "execution_count": null,
      "outputs": []
    },
    {
      "metadata": {
        "_uuid": "3b66eeabd5b7b8c251f8b8ddf331140a64bcd514",
        "id": "_OLCvFmhvbj3"
      },
      "cell_type": "markdown",
      "source": [
        "**Text stemming\n",
        "**"
      ]
    },
    {
      "metadata": {
        "trusted": true,
        "_uuid": "2295f2946e0ab74c220ad538d0e7adc04d23f697",
        "id": "ZsMFx2YTvbj3"
      },
      "cell_type": "code",
      "source": [
        "#Stemming the text\n",
        "def simple_stemmer(text):\n",
        "    ps=nltk.porter.PorterStemmer()\n",
        "    text= ' '.join([ps.stem(word) for word in text.split()])\n",
        "    return text\n",
        "#Apply function on review column\n",
        "imdb_data['review']=imdb_data['review'].apply(simple_stemmer)"
      ],
      "execution_count": null,
      "outputs": []
    },
    {
      "metadata": {
        "_uuid": "e83107e4a281d84d7ae42b4e2c8d81b7ece438e4",
        "id": "-jNhnvIavbj4"
      },
      "cell_type": "markdown",
      "source": [
        "**Removing stopwords**"
      ]
    },
    {
      "metadata": {
        "trusted": true,
        "_uuid": "5dbff82b4d2d188d8777b273a75d8ac714d38885",
        "id": "u-Z9wZXrvbj4"
      },
      "cell_type": "code",
      "source": [
        "#set stopwords to english\n",
        "stop=set(stopwords.words('english'))\n",
        "print(stop)\n",
        "\n",
        "#removing the stopwords\n",
        "def remove_stopwords(text, is_lower_case=False):\n",
        "    tokens = tokenizer.tokenize(text)\n",
        "    tokens = [token.strip() for token in tokens]\n",
        "    if is_lower_case:\n",
        "        filtered_tokens = [token for token in tokens if token not in stopword_list]\n",
        "    else:\n",
        "        filtered_tokens = [token for token in tokens if token.lower() not in stopword_list]\n",
        "    filtered_text = ' '.join(filtered_tokens)\n",
        "    return filtered_text\n",
        "#Apply function on review column\n",
        "imdb_data['review']=imdb_data['review'].apply(remove_stopwords)"
      ],
      "execution_count": null,
      "outputs": []
    },
    {
      "metadata": {
        "_uuid": "b35e7499291173119ed42287deac6f0cd96516e1",
        "id": "3XTPq0A2vbj4"
      },
      "cell_type": "markdown",
      "source": [
        "**Normalized train reviews**"
      ]
    },
    {
      "metadata": {
        "trusted": true,
        "_uuid": "b20c242bd091929ca896ea2c6e936ca00efe6ecf",
        "_kg_hide-output": true,
        "id": "xKywVtJEvbj5"
      },
      "cell_type": "code",
      "source": [
        "#normalized train reviews\n",
        "norm_train_reviews=imdb_data.review[:40000]\n",
        "norm_train_reviews[0]\n",
        "#convert dataframe to string\n",
        "#norm_train_string=norm_train_reviews.to_string()\n",
        "#Spelling correction using Textblob\n",
        "#norm_train_spelling=TextBlob(norm_train_string)\n",
        "#norm_train_spelling.correct()\n",
        "#Tokenization using Textblob\n",
        "#norm_train_words=norm_train_spelling.words\n",
        "#norm_train_words"
      ],
      "execution_count": null,
      "outputs": []
    },
    {
      "metadata": {
        "_uuid": "d69462bb209a66cff86376dc8481d0c0140d894d",
        "id": "RgssQ-6pvbj5"
      },
      "cell_type": "markdown",
      "source": [
        "**Normalized test reviews**"
      ]
    },
    {
      "metadata": {
        "trusted": true,
        "_uuid": "c5d0d38bd9976150367e9d75f3b933774c96a1ab",
        "_kg_hide-output": true,
        "id": "f7Yl-V3Ovbj6"
      },
      "cell_type": "code",
      "source": [
        "#Normalized test reviews\n",
        "norm_test_reviews=imdb_data.review[40000:]\n",
        "norm_test_reviews[45005]\n",
        "##convert dataframe to string\n",
        "#norm_test_string=norm_test_reviews.to_string()\n",
        "#spelling correction using Textblob\n",
        "#norm_test_spelling=TextBlob(norm_test_string)\n",
        "#print(norm_test_spelling.correct())\n",
        "#Tokenization using Textblob\n",
        "#norm_test_words=norm_test_spelling.words\n",
        "#norm_test_words"
      ],
      "execution_count": null,
      "outputs": []
    },
    {
      "metadata": {
        "_uuid": "1c2a872ffcb6b8076fdbbba641af12081b6022ef",
        "id": "JpPwSWmUvbj6"
      },
      "cell_type": "markdown",
      "source": [
        "**Bags of words model **\n",
        "\n",
        "It is used to convert text documents to numerical vectors or bag of words."
      ]
    },
    {
      "metadata": {
        "trusted": true,
        "_uuid": "35cf9dcefb40b2dc520c5b0d559695324c46cc04",
        "id": "ZAuNzgkrvbj6"
      },
      "cell_type": "code",
      "source": [
        "#Count vectorizer for bag of words\n",
        "cv=CountVectorizer(min_df=0,max_df=1,binary=False,ngram_range=(1,3))\n",
        "#transformed train reviews\n",
        "cv_train_reviews=cv.fit_transform(norm_train_reviews)\n",
        "#transformed test reviews\n",
        "cv_test_reviews=cv.transform(norm_test_reviews)\n",
        "\n",
        "print('BOW_cv_train:',cv_train_reviews.shape)\n",
        "print('BOW_cv_test:',cv_test_reviews.shape)\n",
        "#vocab=cv.get_feature_names()-toget feature names"
      ],
      "execution_count": null,
      "outputs": []
    },
    {
      "metadata": {
        "_uuid": "52371868f05ff9cf157280c5acf0f5bc71ee176d",
        "id": "P-p0HQugvbj7"
      },
      "cell_type": "markdown",
      "source": [
        "**Term Frequency-Inverse Document Frequency model (TFIDF)**\n",
        "\n",
        "It is used to convert text documents to  matrix of  tfidf features."
      ]
    },
    {
      "metadata": {
        "trusted": true,
        "scrolled": false,
        "_uuid": "afe6de957339921e05a6faeaf731f2272fd31946",
        "id": "y5IYR9BRvbj8"
      },
      "cell_type": "code",
      "source": [
        "#Tfidf vectorizer\n",
        "tv=TfidfVectorizer(min_df=0,max_df=1,use_idf=True,ngram_range=(1,3))\n",
        "#transformed train reviews\n",
        "tv_train_reviews=tv.fit_transform(norm_train_reviews)\n",
        "#transformed test reviews\n",
        "tv_test_reviews=tv.transform(norm_test_reviews)\n",
        "print('Tfidf_train:',tv_train_reviews.shape)\n",
        "print('Tfidf_test:',tv_test_reviews.shape)"
      ],
      "execution_count": null,
      "outputs": []
    },
    {
      "metadata": {
        "_uuid": "803e92b25faa738b10928a91de72d177d8dddf85",
        "id": "Iur79beQvbj8"
      },
      "cell_type": "markdown",
      "source": [
        "**Labeling the sentiment text**"
      ]
    },
    {
      "metadata": {
        "trusted": true,
        "_uuid": "60f5d496ce4109d1cdbf08f4284d4d26efd93922",
        "id": "1gEMYZr9vbj9"
      },
      "cell_type": "code",
      "source": [
        "#labeling the sentient data\n",
        "lb=LabelBinarizer()\n",
        "#transformed sentiment data\n",
        "sentiment_data=lb.fit_transform(imdb_data['sentiment'])\n",
        "print(sentiment_data.shape)"
      ],
      "execution_count": null,
      "outputs": []
    },
    {
      "metadata": {
        "_uuid": "21a80c94fb42e14391c627710c5d796c40aa7dde",
        "id": "7G_0IwNLvbj9"
      },
      "cell_type": "markdown",
      "source": [
        "**Split the sentiment tdata**"
      ]
    },
    {
      "metadata": {
        "trusted": true,
        "_uuid": "ca1e4cc917265ac98a72c37cffe57f27e9897408",
        "_kg_hide-output": true,
        "id": "qxNi_Fp8vbj-"
      },
      "cell_type": "code",
      "source": [
        "#Spliting the sentiment data\n",
        "train_sentiments=sentiment_data[:40000]\n",
        "test_sentiments=sentiment_data[40000:]\n",
        "print(train_sentiments)\n",
        "print(test_sentiments)"
      ],
      "execution_count": null,
      "outputs": []
    },
    {
      "metadata": {
        "id": "kcb222I_vbj-"
      },
      "cell_type": "markdown",
      "source": [
        "**Modelling the dataset**"
      ]
    },
    {
      "metadata": {
        "_uuid": "d5e45fdc9d062a5b9b9dd665ffe732776e196953",
        "id": "8OKStDXAvbj-"
      },
      "cell_type": "markdown",
      "source": [
        "Let us build logistic regression model for both bag of words and tfidf features"
      ]
    },
    {
      "metadata": {
        "trusted": true,
        "_uuid": "142d007421900550079a12ae8655bcae678ebaad",
        "id": "4GS1h1jvvbj-"
      },
      "cell_type": "code",
      "source": [
        "#training the model\n",
        "lr=LogisticRegression(penalty='l2',max_iter=500,C=1,random_state=42)\n",
        "#Fitting the model for Bag of words\n",
        "lr_bow=lr.fit(cv_train_reviews,train_sentiments)\n",
        "print(lr_bow)\n",
        "#Fitting the model for tfidf features\n",
        "lr_tfidf=lr.fit(tv_train_reviews,train_sentiments)\n",
        "print(lr_tfidf)"
      ],
      "execution_count": null,
      "outputs": []
    },
    {
      "metadata": {
        "_uuid": "07eb6d52eb32469e3be82e90af636d598a7b7c27",
        "id": "ajJ6bTjqvbkP"
      },
      "cell_type": "markdown",
      "source": [
        "**Logistic regression model performane on test dataset**"
      ]
    },
    {
      "metadata": {
        "trusted": true,
        "_uuid": "52ad86935b76117f97b79e6672a3ba12352b9461",
        "id": "ErWXkhAkvbkP"
      },
      "cell_type": "code",
      "source": [
        "#Predicting the model for bag of words\n",
        "lr_bow_predict=lr.predict(cv_test_reviews)\n",
        "print(lr_bow_predict)\n",
        "##Predicting the model for tfidf features\n",
        "lr_tfidf_predict=lr.predict(tv_test_reviews)\n",
        "print(lr_tfidf_predict)"
      ],
      "execution_count": null,
      "outputs": []
    },
    {
      "metadata": {
        "id": "KIyTd5sVvbkQ"
      },
      "cell_type": "markdown",
      "source": [
        "**Accuracy of the model**"
      ]
    },
    {
      "metadata": {
        "trusted": true,
        "id": "xd_4-HTrvbkQ"
      },
      "cell_type": "code",
      "source": [
        "#Accuracy score for bag of words\n",
        "lr_bow_score=accuracy_score(test_sentiments,lr_bow_predict)\n",
        "print(\"lr_bow_score :\",lr_bow_score)\n",
        "#Accuracy score for tfidf features\n",
        "lr_tfidf_score=accuracy_score(test_sentiments,lr_tfidf_predict)\n",
        "print(\"lr_tfidf_score :\",lr_tfidf_score)"
      ],
      "execution_count": null,
      "outputs": []
    },
    {
      "metadata": {
        "_uuid": "ac2ec8353acb5e0f548e1e4a590fbe6f34f4a686",
        "id": "TgaifCl9vbkR"
      },
      "cell_type": "markdown",
      "source": [
        "**Print the classification report**"
      ]
    },
    {
      "metadata": {
        "trusted": true,
        "_uuid": "f89c7e7a6136d08790ffbf6bc4d0d05455f8555a",
        "id": "Kwu5asQ7vbkR"
      },
      "cell_type": "code",
      "source": [
        "#Classification report for bag of words\n",
        "lr_bow_report=classification_report(test_sentiments,lr_bow_predict,target_names=['Positive','Negative'])\n",
        "print(lr_bow_report)\n",
        "\n",
        "#Classification report for tfidf features\n",
        "lr_tfidf_report=classification_report(test_sentiments,lr_tfidf_predict,target_names=['Positive','Negative'])\n",
        "print(lr_tfidf_report)"
      ],
      "execution_count": null,
      "outputs": []
    },
    {
      "metadata": {
        "_uuid": "0d2e5ddcd69ff0fb52f05f17fc74a86e1b5e5b61",
        "id": "wvH_HCIQvbkS"
      },
      "cell_type": "markdown",
      "source": [
        "**Confusion matrix**"
      ]
    },
    {
      "metadata": {
        "trusted": true,
        "_uuid": "a36c058e834938559b7202f2142e61423a613b7a",
        "id": "3uZYETNyvbkS"
      },
      "cell_type": "code",
      "source": [
        "#confusion matrix for bag of words\n",
        "cm_bow=confusion_matrix(test_sentiments,lr_bow_predict,labels=[1,0])\n",
        "print(cm_bow)\n",
        "#confusion matrix for tfidf features\n",
        "cm_tfidf=confusion_matrix(test_sentiments,lr_tfidf_predict,labels=[1,0])\n",
        "print(cm_tfidf)"
      ],
      "execution_count": null,
      "outputs": []
    },
    {
      "metadata": {
        "_uuid": "8fde9753386e3593dc27c4e88e02bdc38462a018",
        "id": "T4ypVedtvbkS"
      },
      "cell_type": "markdown",
      "source": [
        "**Stochastic gradient descent or Linear support vector machines for bag of words and tfidf features**"
      ]
    },
    {
      "metadata": {
        "trusted": true,
        "_uuid": "2211a9e97682195a0372b33e4da7267aad8548db",
        "id": "PxYumMiIvbkW"
      },
      "cell_type": "code",
      "source": [
        "#training the linear svm\n",
        "svm=SGDClassifier(loss='hinge',max_iter=500,random_state=42)\n",
        "#fitting the svm for bag of words\n",
        "svm_bow=svm.fit(cv_train_reviews,train_sentiments)\n",
        "print(svm_bow)\n",
        "#fitting the svm for tfidf features\n",
        "svm_tfidf=svm.fit(tv_train_reviews,train_sentiments)\n",
        "print(svm_tfidf)"
      ],
      "execution_count": null,
      "outputs": []
    },
    {
      "metadata": {
        "_uuid": "e9a7a973591c1d3cabaa1a47c57fa029d3752bab",
        "id": "zSotWPJqvbkW"
      },
      "cell_type": "markdown",
      "source": [
        "**Model performance on test data**"
      ]
    },
    {
      "metadata": {
        "trusted": true,
        "_uuid": "1a5ab738e04f0f9082c8d6ade6c2148cc398f8f3",
        "id": "0wZj62vbvbkW"
      },
      "cell_type": "code",
      "source": [
        "#Predicting the model for bag of words\n",
        "svm_bow_predict=svm.predict(cv_test_reviews)\n",
        "print(svm_bow_predict)\n",
        "#Predicting the model for tfidf features\n",
        "svm_tfidf_predict=svm.predict(tv_test_reviews)\n",
        "print(svm_tfidf_predict)"
      ],
      "execution_count": null,
      "outputs": []
    },
    {
      "metadata": {
        "id": "mpRTveNCvbkX"
      },
      "cell_type": "markdown",
      "source": [
        "**Accuracy of the model**"
      ]
    },
    {
      "metadata": {
        "trusted": true,
        "id": "DTNkBNuFvbkX"
      },
      "cell_type": "code",
      "source": [
        "#Accuracy score for bag of words\n",
        "svm_bow_score=accuracy_score(test_sentiments,svm_bow_predict)\n",
        "print(\"svm_bow_score :\",svm_bow_score)\n",
        "#Accuracy score for tfidf features\n",
        "svm_tfidf_score=accuracy_score(test_sentiments,svm_tfidf_predict)\n",
        "print(\"svm_tfidf_score :\",svm_tfidf_score)"
      ],
      "execution_count": null,
      "outputs": []
    },
    {
      "metadata": {
        "_uuid": "b1bd245f50902ad87ca28e48cbce64ec6a16ec5a",
        "id": "VuoRRhPuvbkZ"
      },
      "cell_type": "markdown",
      "source": [
        "**Print the classification report**"
      ]
    },
    {
      "metadata": {
        "trusted": true,
        "_uuid": "d112bc5b4944330b567e19a7e04544a9a459f238",
        "id": "W8b-BCeZvbkZ"
      },
      "cell_type": "code",
      "source": [
        "#Classification report for bag of words\n",
        "svm_bow_report=classification_report(test_sentiments,svm_bow_predict,target_names=['Positive','Negative'])\n",
        "print(svm_bow_report)\n",
        "#Classification report for tfidf features\n",
        "svm_tfidf_report=classification_report(test_sentiments,svm_tfidf_predict,target_names=['Positive','Negative'])\n",
        "print(svm_tfidf_report)"
      ],
      "execution_count": null,
      "outputs": []
    },
    {
      "metadata": {
        "_uuid": "705fd8ae8bb5e6925852fffc906b6ffd769dbac0",
        "id": "wstIntU3vbka"
      },
      "cell_type": "markdown",
      "source": [
        "**Plot the confusion matrix**"
      ]
    },
    {
      "metadata": {
        "trusted": true,
        "_uuid": "49cde912705acbaef90d7a269cd27ea8a2815f03",
        "id": "85lKYmsWvbka"
      },
      "cell_type": "code",
      "source": [
        "#confusion matrix for bag of words\n",
        "cm_bow=confusion_matrix(test_sentiments,svm_bow_predict,labels=[1,0])\n",
        "print(cm_bow)\n",
        "#confusion matrix for tfidf features\n",
        "cm_tfidf=confusion_matrix(test_sentiments,svm_tfidf_predict,labels=[1,0])\n",
        "print(cm_tfidf)"
      ],
      "execution_count": null,
      "outputs": []
    },
    {
      "metadata": {
        "id": "T6kDlTwcvbkb"
      },
      "cell_type": "markdown",
      "source": [
        "**Multinomial Naive Bayes for bag of words and tfidf features**"
      ]
    },
    {
      "metadata": {
        "trusted": true,
        "id": "b5Gh_fsgvbkc"
      },
      "cell_type": "code",
      "source": [
        "#training the model\n",
        "mnb=MultinomialNB()\n",
        "#fitting the svm for bag of words\n",
        "mnb_bow=mnb.fit(cv_train_reviews,train_sentiments)\n",
        "print(mnb_bow)\n",
        "#fitting the svm for tfidf features\n",
        "mnb_tfidf=mnb.fit(tv_train_reviews,train_sentiments)\n",
        "print(mnb_tfidf)"
      ],
      "execution_count": null,
      "outputs": []
    },
    {
      "metadata": {
        "id": "NitehQswvbkc"
      },
      "cell_type": "markdown",
      "source": [
        "**Model performance on test data**"
      ]
    },
    {
      "metadata": {
        "trusted": true,
        "id": "5R-6Vqqpvbkc"
      },
      "cell_type": "code",
      "source": [
        "#Predicting the model for bag of words\n",
        "mnb_bow_predict=mnb.predict(cv_test_reviews)\n",
        "print(mnb_bow_predict)\n",
        "#Predicting the model for tfidf features\n",
        "mnb_tfidf_predict=mnb.predict(tv_test_reviews)\n",
        "print(mnb_tfidf_predict)"
      ],
      "execution_count": null,
      "outputs": []
    },
    {
      "metadata": {
        "id": "zviy6nmbvbkd"
      },
      "cell_type": "markdown",
      "source": [
        "**Accuracy of the model**"
      ]
    },
    {
      "metadata": {
        "trusted": true,
        "id": "tDe78stnvbkd"
      },
      "cell_type": "code",
      "source": [
        "#Accuracy score for bag of words\n",
        "mnb_bow_score=accuracy_score(test_sentiments,mnb_bow_predict)\n",
        "print(\"mnb_bow_score :\",mnb_bow_score)\n",
        "#Accuracy score for tfidf features\n",
        "mnb_tfidf_score=accuracy_score(test_sentiments,mnb_tfidf_predict)\n",
        "print(\"mnb_tfidf_score :\",mnb_tfidf_score)"
      ],
      "execution_count": null,
      "outputs": []
    },
    {
      "metadata": {
        "id": "xeLkD3V6vbke"
      },
      "cell_type": "markdown",
      "source": [
        "**Print the classification report**"
      ]
    },
    {
      "metadata": {
        "trusted": true,
        "id": "ouuvTFopvbke"
      },
      "cell_type": "code",
      "source": [
        "#Classification report for bag of words\n",
        "mnb_bow_report=classification_report(test_sentiments,mnb_bow_predict,target_names=['Positive','Negative'])\n",
        "print(mnb_bow_report)\n",
        "#Classification report for tfidf features\n",
        "mnb_tfidf_report=classification_report(test_sentiments,mnb_tfidf_predict,target_names=['Positive','Negative'])\n",
        "print(mnb_tfidf_report)"
      ],
      "execution_count": null,
      "outputs": []
    },
    {
      "metadata": {
        "id": "FyYl-1yJvbkf"
      },
      "cell_type": "markdown",
      "source": [
        "**Plot the confusion matrix**"
      ]
    },
    {
      "metadata": {
        "trusted": true,
        "id": "GoRRG_uuvbkf"
      },
      "cell_type": "code",
      "source": [
        "#confusion matrix for bag of words\n",
        "cm_bow=confusion_matrix(test_sentiments,mnb_bow_predict,labels=[1,0])\n",
        "print(cm_bow)\n",
        "#confusion matrix for tfidf features\n",
        "cm_tfidf=confusion_matrix(test_sentiments,mnb_tfidf_predict,labels=[1,0])\n",
        "print(cm_tfidf)"
      ],
      "execution_count": null,
      "outputs": []
    },
    {
      "metadata": {
        "id": "NOZbAri-vbkg"
      },
      "cell_type": "markdown",
      "source": [
        "**Let us see positive and negative words by using WordCloud.**"
      ]
    },
    {
      "metadata": {
        "id": "GVH96Pehvbkg"
      },
      "cell_type": "markdown",
      "source": [
        "**Word cloud for positive review words**"
      ]
    },
    {
      "metadata": {
        "trusted": true,
        "id": "sMFyrjV4vbkh"
      },
      "cell_type": "code",
      "source": [
        "#word cloud for positive review words\n",
        "plt.figure(figsize=(10,10))\n",
        "positive_text=norm_train_reviews[1]\n",
        "WC=WordCloud(width=1000,height=500,max_words=500,min_font_size=5)\n",
        "positive_words=WC.generate(positive_text)\n",
        "plt.imshow(positive_words,interpolation='bilinear')\n",
        "plt.show"
      ],
      "execution_count": null,
      "outputs": []
    },
    {
      "metadata": {
        "id": "DEWQWckFvbkh"
      },
      "cell_type": "markdown",
      "source": [
        "**Word cloud for negative review words**"
      ]
    },
    {
      "metadata": {
        "trusted": true,
        "id": "Ts-3H5-qvbki"
      },
      "cell_type": "code",
      "source": [
        "#Word cloud for negative review words\n",
        "plt.figure(figsize=(10,10))\n",
        "negative_text=norm_train_reviews[8]\n",
        "WC=WordCloud(width=1000,height=500,max_words=500,min_font_size=5)\n",
        "negative_words=WC.generate(negative_text)\n",
        "plt.imshow(negative_words,interpolation='bilinear')\n",
        "plt.show"
      ],
      "execution_count": null,
      "outputs": []
    },
    {
      "metadata": {
        "id": "k3TVRbvavbki"
      },
      "cell_type": "markdown",
      "source": [
        "**Conclusion:**\n",
        "* We can observed that both logistic regression and multinomial naive bayes model performing well compared to linear support vector  machines.\n",
        "* Still we can improve the accuracy of the models by preprocessing data and by using lexicon models like Textblob."
      ]
    }
  ],
  "metadata": {
    "kernelspec": {
      "language": "python",
      "display_name": "Python 3",
      "name": "python3"
    },
    "language_info": {
      "pygments_lexer": "ipython3",
      "nbconvert_exporter": "python",
      "version": "3.6.4",
      "file_extension": ".py",
      "codemirror_mode": {
        "name": "ipython",
        "version": 3
      },
      "name": "python",
      "mimetype": "text/x-python"
    },
    "colab": {
      "provenance": []
    }
  },
  "nbformat": 4,
  "nbformat_minor": 0
}